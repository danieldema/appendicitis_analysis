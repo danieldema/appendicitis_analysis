{
 "cells": [
  {
   "cell_type": "code",
   "execution_count": 238,
   "id": "2792efa8-0e03-4d04-8481-eaeb05d537eb",
   "metadata": {},
   "outputs": [],
   "source": [
    "import warnings\n",
    "warnings.simplefilter(action='ignore', category=FutureWarning)\n",
    "\n",
    "import pandas as pd\n",
    "import numpy as np\n",
    "\n",
    "import matplotlib\n",
    "import matplotlib.pyplot as plt"
   ]
  },
  {
   "cell_type": "code",
   "execution_count": 240,
   "id": "89b11dee-06e0-4e4c-b3f7-af887838d33f",
   "metadata": {},
   "outputs": [],
   "source": [
    "df = pd.read_excel('app_data.xlsx')"
   ]
  },
  {
   "cell_type": "code",
   "execution_count": 241,
   "id": "90b4b16c-c38d-4796-a9a1-8dc53eb9ef83",
   "metadata": {},
   "outputs": [],
   "source": [
    "df = df[['Diagnosis_Presumptive', 'Diagnosis', 'Alvarado_Score', 'Appendix_Diameter', 'Lower_Right_Abd_Pain', 'Contralateral_Rebound_Tenderness', 'Coughing_Pain', 'Nausea', 'Loss_of_Appetite', 'Body_Temperature', 'Stool', 'Psoas_Sign']]"
   ]
  },
  {
   "cell_type": "code",
   "execution_count": 244,
   "id": "0d11d5c2-39d4-46d1-b6ef-2f31f2858eaa",
   "metadata": {},
   "outputs": [],
   "source": [
    "df = df.dropna()"
   ]
  },
  {
   "cell_type": "code",
   "execution_count": 281,
   "id": "989dcd9b-19c5-4372-8912-f86626dd063a",
   "metadata": {},
   "outputs": [
    {
     "data": {
      "text/html": [
       "<div>\n",
       "<style scoped>\n",
       "    .dataframe tbody tr th:only-of-type {\n",
       "        vertical-align: middle;\n",
       "    }\n",
       "\n",
       "    .dataframe tbody tr th {\n",
       "        vertical-align: top;\n",
       "    }\n",
       "\n",
       "    .dataframe thead th {\n",
       "        text-align: right;\n",
       "    }\n",
       "</style>\n",
       "<table border=\"1\" class=\"dataframe\">\n",
       "  <thead>\n",
       "    <tr style=\"text-align: right;\">\n",
       "      <th></th>\n",
       "      <th>Diagnosis_Presumptive</th>\n",
       "      <th>Diagnosis</th>\n",
       "      <th>Alvarado_Score</th>\n",
       "      <th>Appendix_Diameter</th>\n",
       "      <th>Lower_Right_Abd_Pain</th>\n",
       "      <th>Contralateral_Rebound_Tenderness</th>\n",
       "      <th>Coughing_Pain</th>\n",
       "      <th>Nausea</th>\n",
       "      <th>Loss_of_Appetite</th>\n",
       "      <th>Body_Temperature</th>\n",
       "      <th>Stool</th>\n",
       "      <th>Psoas_Sign</th>\n",
       "    </tr>\n",
       "  </thead>\n",
       "  <tbody>\n",
       "    <tr>\n",
       "      <th>0</th>\n",
       "      <td>appendicitis</td>\n",
       "      <td>appendicitis</td>\n",
       "      <td>4.0</td>\n",
       "      <td>7.1</td>\n",
       "      <td>yes</td>\n",
       "      <td>yes</td>\n",
       "      <td>no</td>\n",
       "      <td>no</td>\n",
       "      <td>yes</td>\n",
       "      <td>37.0</td>\n",
       "      <td>normal</td>\n",
       "      <td>yes</td>\n",
       "    </tr>\n",
       "    <tr>\n",
       "      <th>4</th>\n",
       "      <td>appendicitis</td>\n",
       "      <td>appendicitis</td>\n",
       "      <td>5.0</td>\n",
       "      <td>7.0</td>\n",
       "      <td>yes</td>\n",
       "      <td>yes</td>\n",
       "      <td>yes</td>\n",
       "      <td>yes</td>\n",
       "      <td>yes</td>\n",
       "      <td>36.9</td>\n",
       "      <td>constipation</td>\n",
       "      <td>yes</td>\n",
       "    </tr>\n",
       "    <tr>\n",
       "      <th>8</th>\n",
       "      <td>appendicitis</td>\n",
       "      <td>no appendicitis</td>\n",
       "      <td>7.0</td>\n",
       "      <td>3.7</td>\n",
       "      <td>yes</td>\n",
       "      <td>no</td>\n",
       "      <td>no</td>\n",
       "      <td>no</td>\n",
       "      <td>yes</td>\n",
       "      <td>37.3</td>\n",
       "      <td>normal</td>\n",
       "      <td>no</td>\n",
       "    </tr>\n",
       "    <tr>\n",
       "      <th>9</th>\n",
       "      <td>appendicitis</td>\n",
       "      <td>appendicitis</td>\n",
       "      <td>4.0</td>\n",
       "      <td>8.0</td>\n",
       "      <td>yes</td>\n",
       "      <td>no</td>\n",
       "      <td>no</td>\n",
       "      <td>yes</td>\n",
       "      <td>yes</td>\n",
       "      <td>37.1</td>\n",
       "      <td>normal</td>\n",
       "      <td>no</td>\n",
       "    </tr>\n",
       "    <tr>\n",
       "      <th>10</th>\n",
       "      <td>appendicitis</td>\n",
       "      <td>appendicitis</td>\n",
       "      <td>8.0</td>\n",
       "      <td>9.0</td>\n",
       "      <td>yes</td>\n",
       "      <td>no</td>\n",
       "      <td>yes</td>\n",
       "      <td>no</td>\n",
       "      <td>yes</td>\n",
       "      <td>38.0</td>\n",
       "      <td>normal</td>\n",
       "      <td>no</td>\n",
       "    </tr>\n",
       "    <tr>\n",
       "      <th>...</th>\n",
       "      <td>...</td>\n",
       "      <td>...</td>\n",
       "      <td>...</td>\n",
       "      <td>...</td>\n",
       "      <td>...</td>\n",
       "      <td>...</td>\n",
       "      <td>...</td>\n",
       "      <td>...</td>\n",
       "      <td>...</td>\n",
       "      <td>...</td>\n",
       "      <td>...</td>\n",
       "      <td>...</td>\n",
       "    </tr>\n",
       "    <tr>\n",
       "      <th>771</th>\n",
       "      <td>appendicitis</td>\n",
       "      <td>appendicitis</td>\n",
       "      <td>7.0</td>\n",
       "      <td>12.0</td>\n",
       "      <td>yes</td>\n",
       "      <td>no</td>\n",
       "      <td>no</td>\n",
       "      <td>yes</td>\n",
       "      <td>no</td>\n",
       "      <td>38.2</td>\n",
       "      <td>constipation</td>\n",
       "      <td>no</td>\n",
       "    </tr>\n",
       "    <tr>\n",
       "      <th>775</th>\n",
       "      <td>appendicitis</td>\n",
       "      <td>appendicitis</td>\n",
       "      <td>7.0</td>\n",
       "      <td>10.0</td>\n",
       "      <td>yes</td>\n",
       "      <td>no</td>\n",
       "      <td>no</td>\n",
       "      <td>yes</td>\n",
       "      <td>no</td>\n",
       "      <td>38.2</td>\n",
       "      <td>normal</td>\n",
       "      <td>no</td>\n",
       "    </tr>\n",
       "    <tr>\n",
       "      <th>777</th>\n",
       "      <td>appendicitis</td>\n",
       "      <td>appendicitis</td>\n",
       "      <td>8.0</td>\n",
       "      <td>7.5</td>\n",
       "      <td>yes</td>\n",
       "      <td>no</td>\n",
       "      <td>no</td>\n",
       "      <td>no</td>\n",
       "      <td>yes</td>\n",
       "      <td>39.4</td>\n",
       "      <td>diarrhea</td>\n",
       "      <td>yes</td>\n",
       "    </tr>\n",
       "    <tr>\n",
       "      <th>780</th>\n",
       "      <td>appendicitis</td>\n",
       "      <td>appendicitis</td>\n",
       "      <td>9.0</td>\n",
       "      <td>14.0</td>\n",
       "      <td>yes</td>\n",
       "      <td>no</td>\n",
       "      <td>yes</td>\n",
       "      <td>yes</td>\n",
       "      <td>no</td>\n",
       "      <td>37.5</td>\n",
       "      <td>normal</td>\n",
       "      <td>no</td>\n",
       "    </tr>\n",
       "    <tr>\n",
       "      <th>781</th>\n",
       "      <td>appendicitis</td>\n",
       "      <td>appendicitis</td>\n",
       "      <td>2.0</td>\n",
       "      <td>8.0</td>\n",
       "      <td>yes</td>\n",
       "      <td>no</td>\n",
       "      <td>no</td>\n",
       "      <td>no</td>\n",
       "      <td>no</td>\n",
       "      <td>36.8</td>\n",
       "      <td>normal</td>\n",
       "      <td>no</td>\n",
       "    </tr>\n",
       "  </tbody>\n",
       "</table>\n",
       "<p>456 rows × 12 columns</p>\n",
       "</div>"
      ],
      "text/plain": [
       "    Diagnosis_Presumptive        Diagnosis  Alvarado_Score  Appendix_Diameter  \\\n",
       "0            appendicitis     appendicitis             4.0                7.1   \n",
       "4            appendicitis     appendicitis             5.0                7.0   \n",
       "8            appendicitis  no appendicitis             7.0                3.7   \n",
       "9            appendicitis     appendicitis             4.0                8.0   \n",
       "10           appendicitis     appendicitis             8.0                9.0   \n",
       "..                    ...              ...             ...                ...   \n",
       "771          appendicitis     appendicitis             7.0               12.0   \n",
       "775          appendicitis     appendicitis             7.0               10.0   \n",
       "777          appendicitis     appendicitis             8.0                7.5   \n",
       "780          appendicitis     appendicitis             9.0               14.0   \n",
       "781          appendicitis     appendicitis             2.0                8.0   \n",
       "\n",
       "    Lower_Right_Abd_Pain Contralateral_Rebound_Tenderness Coughing_Pain  \\\n",
       "0                    yes                              yes            no   \n",
       "4                    yes                              yes           yes   \n",
       "8                    yes                               no            no   \n",
       "9                    yes                               no            no   \n",
       "10                   yes                               no           yes   \n",
       "..                   ...                              ...           ...   \n",
       "771                  yes                               no            no   \n",
       "775                  yes                               no            no   \n",
       "777                  yes                               no            no   \n",
       "780                  yes                               no           yes   \n",
       "781                  yes                               no            no   \n",
       "\n",
       "    Nausea Loss_of_Appetite  Body_Temperature         Stool Psoas_Sign  \n",
       "0       no              yes              37.0        normal        yes  \n",
       "4      yes              yes              36.9  constipation        yes  \n",
       "8       no              yes              37.3        normal         no  \n",
       "9      yes              yes              37.1        normal         no  \n",
       "10      no              yes              38.0        normal         no  \n",
       "..     ...              ...               ...           ...        ...  \n",
       "771    yes               no              38.2  constipation         no  \n",
       "775    yes               no              38.2        normal         no  \n",
       "777     no              yes              39.4      diarrhea        yes  \n",
       "780    yes               no              37.5        normal         no  \n",
       "781     no               no              36.8        normal         no  \n",
       "\n",
       "[456 rows x 12 columns]"
      ]
     },
     "execution_count": 281,
     "metadata": {},
     "output_type": "execute_result"
    }
   ],
   "source": [
    "df"
   ]
  },
  {
   "cell_type": "code",
   "execution_count": 283,
   "id": "1e00deb4-8db3-4256-9183-39d6dbe2d2aa",
   "metadata": {},
   "outputs": [
    {
     "data": {
      "text/plain": [
       "10.0"
      ]
     },
     "execution_count": 283,
     "metadata": {},
     "output_type": "execute_result"
    }
   ],
   "source": [
    "df['Alvarado_Score'].max()"
   ]
  },
  {
   "cell_type": "code",
   "execution_count": 285,
   "id": "4433206e-7a60-4c4c-91b9-2d031fe18d42",
   "metadata": {},
   "outputs": [
    {
     "data": {
      "text/plain": [
       "0.0"
      ]
     },
     "execution_count": 285,
     "metadata": {},
     "output_type": "execute_result"
    }
   ],
   "source": [
    "df['Alvarado_Score'].min()"
   ]
  },
  {
   "cell_type": "code",
   "execution_count": 287,
   "id": "3e597026-da04-41aa-9a6b-c6efa7616b7d",
   "metadata": {},
   "outputs": [
    {
     "data": {
      "text/plain": [
       "17.0"
      ]
     },
     "execution_count": 287,
     "metadata": {},
     "output_type": "execute_result"
    }
   ],
   "source": [
    "df['Appendix_Diameter'].max()"
   ]
  },
  {
   "cell_type": "code",
   "execution_count": 289,
   "id": "6098673a-9f62-4f99-9f63-11cce1e1824d",
   "metadata": {},
   "outputs": [
    {
     "data": {
      "text/plain": [
       "2.7"
      ]
     },
     "execution_count": 289,
     "metadata": {},
     "output_type": "execute_result"
    }
   ],
   "source": [
    "df['Appendix_Diameter'].min()"
   ]
  },
  {
   "cell_type": "code",
   "execution_count": 291,
   "id": "9377af61-cf61-40ae-b6e7-e9200d7d7f62",
   "metadata": {},
   "outputs": [
    {
     "data": {
      "text/plain": [
       "40.2"
      ]
     },
     "execution_count": 291,
     "metadata": {},
     "output_type": "execute_result"
    }
   ],
   "source": [
    "df['Body_Temperature'].max()"
   ]
  },
  {
   "cell_type": "code",
   "execution_count": 293,
   "id": "275fcb35-97a8-4259-acd3-78fc49f92502",
   "metadata": {},
   "outputs": [
    {
     "data": {
      "text/plain": [
       "35.8"
      ]
     },
     "execution_count": 293,
     "metadata": {},
     "output_type": "execute_result"
    }
   ],
   "source": [
    "df['Body_Temperature'].min()"
   ]
  },
  {
   "cell_type": "code",
   "execution_count": 246,
   "id": "57127adc-f0a4-40fc-8566-f164c0079a71",
   "metadata": {},
   "outputs": [],
   "source": [
    "df_pos = df[df['Diagnosis'].isin(['appendicitis'])]\n",
    "df_neg = df[~df['Diagnosis'].isin(['appendicitis'])]"
   ]
  },
  {
   "cell_type": "code",
   "execution_count": 248,
   "id": "dd5a0ac7-857c-4765-97cd-c32a361a829d",
   "metadata": {},
   "outputs": [
    {
     "data": {
      "text/html": [
       "<div>\n",
       "<style scoped>\n",
       "    .dataframe tbody tr th:only-of-type {\n",
       "        vertical-align: middle;\n",
       "    }\n",
       "\n",
       "    .dataframe tbody tr th {\n",
       "        vertical-align: top;\n",
       "    }\n",
       "\n",
       "    .dataframe thead th {\n",
       "        text-align: right;\n",
       "    }\n",
       "</style>\n",
       "<table border=\"1\" class=\"dataframe\">\n",
       "  <thead>\n",
       "    <tr style=\"text-align: right;\">\n",
       "      <th></th>\n",
       "      <th>Diagnosis_Presumptive</th>\n",
       "      <th>Diagnosis</th>\n",
       "      <th>Alvarado_Score</th>\n",
       "      <th>Appendix_Diameter</th>\n",
       "      <th>Lower_Right_Abd_Pain</th>\n",
       "      <th>Contralateral_Rebound_Tenderness</th>\n",
       "      <th>Coughing_Pain</th>\n",
       "      <th>Nausea</th>\n",
       "      <th>Loss_of_Appetite</th>\n",
       "      <th>Body_Temperature</th>\n",
       "      <th>Stool</th>\n",
       "      <th>Psoas_Sign</th>\n",
       "    </tr>\n",
       "  </thead>\n",
       "  <tbody>\n",
       "    <tr>\n",
       "      <th>0</th>\n",
       "      <td>appendicitis</td>\n",
       "      <td>appendicitis</td>\n",
       "      <td>4.0</td>\n",
       "      <td>7.1</td>\n",
       "      <td>yes</td>\n",
       "      <td>yes</td>\n",
       "      <td>no</td>\n",
       "      <td>no</td>\n",
       "      <td>yes</td>\n",
       "      <td>37.0</td>\n",
       "      <td>normal</td>\n",
       "      <td>yes</td>\n",
       "    </tr>\n",
       "    <tr>\n",
       "      <th>4</th>\n",
       "      <td>appendicitis</td>\n",
       "      <td>appendicitis</td>\n",
       "      <td>5.0</td>\n",
       "      <td>7.0</td>\n",
       "      <td>yes</td>\n",
       "      <td>yes</td>\n",
       "      <td>yes</td>\n",
       "      <td>yes</td>\n",
       "      <td>yes</td>\n",
       "      <td>36.9</td>\n",
       "      <td>constipation</td>\n",
       "      <td>yes</td>\n",
       "    </tr>\n",
       "    <tr>\n",
       "      <th>9</th>\n",
       "      <td>appendicitis</td>\n",
       "      <td>appendicitis</td>\n",
       "      <td>4.0</td>\n",
       "      <td>8.0</td>\n",
       "      <td>yes</td>\n",
       "      <td>no</td>\n",
       "      <td>no</td>\n",
       "      <td>yes</td>\n",
       "      <td>yes</td>\n",
       "      <td>37.1</td>\n",
       "      <td>normal</td>\n",
       "      <td>no</td>\n",
       "    </tr>\n",
       "    <tr>\n",
       "      <th>10</th>\n",
       "      <td>appendicitis</td>\n",
       "      <td>appendicitis</td>\n",
       "      <td>8.0</td>\n",
       "      <td>9.0</td>\n",
       "      <td>yes</td>\n",
       "      <td>no</td>\n",
       "      <td>yes</td>\n",
       "      <td>no</td>\n",
       "      <td>yes</td>\n",
       "      <td>38.0</td>\n",
       "      <td>normal</td>\n",
       "      <td>no</td>\n",
       "    </tr>\n",
       "    <tr>\n",
       "      <th>14</th>\n",
       "      <td>appendicitis</td>\n",
       "      <td>appendicitis</td>\n",
       "      <td>8.0</td>\n",
       "      <td>9.0</td>\n",
       "      <td>yes</td>\n",
       "      <td>yes</td>\n",
       "      <td>yes</td>\n",
       "      <td>yes</td>\n",
       "      <td>yes</td>\n",
       "      <td>36.5</td>\n",
       "      <td>normal</td>\n",
       "      <td>no</td>\n",
       "    </tr>\n",
       "    <tr>\n",
       "      <th>...</th>\n",
       "      <td>...</td>\n",
       "      <td>...</td>\n",
       "      <td>...</td>\n",
       "      <td>...</td>\n",
       "      <td>...</td>\n",
       "      <td>...</td>\n",
       "      <td>...</td>\n",
       "      <td>...</td>\n",
       "      <td>...</td>\n",
       "      <td>...</td>\n",
       "      <td>...</td>\n",
       "      <td>...</td>\n",
       "    </tr>\n",
       "    <tr>\n",
       "      <th>771</th>\n",
       "      <td>appendicitis</td>\n",
       "      <td>appendicitis</td>\n",
       "      <td>7.0</td>\n",
       "      <td>12.0</td>\n",
       "      <td>yes</td>\n",
       "      <td>no</td>\n",
       "      <td>no</td>\n",
       "      <td>yes</td>\n",
       "      <td>no</td>\n",
       "      <td>38.2</td>\n",
       "      <td>constipation</td>\n",
       "      <td>no</td>\n",
       "    </tr>\n",
       "    <tr>\n",
       "      <th>775</th>\n",
       "      <td>appendicitis</td>\n",
       "      <td>appendicitis</td>\n",
       "      <td>7.0</td>\n",
       "      <td>10.0</td>\n",
       "      <td>yes</td>\n",
       "      <td>no</td>\n",
       "      <td>no</td>\n",
       "      <td>yes</td>\n",
       "      <td>no</td>\n",
       "      <td>38.2</td>\n",
       "      <td>normal</td>\n",
       "      <td>no</td>\n",
       "    </tr>\n",
       "    <tr>\n",
       "      <th>777</th>\n",
       "      <td>appendicitis</td>\n",
       "      <td>appendicitis</td>\n",
       "      <td>8.0</td>\n",
       "      <td>7.5</td>\n",
       "      <td>yes</td>\n",
       "      <td>no</td>\n",
       "      <td>no</td>\n",
       "      <td>no</td>\n",
       "      <td>yes</td>\n",
       "      <td>39.4</td>\n",
       "      <td>diarrhea</td>\n",
       "      <td>yes</td>\n",
       "    </tr>\n",
       "    <tr>\n",
       "      <th>780</th>\n",
       "      <td>appendicitis</td>\n",
       "      <td>appendicitis</td>\n",
       "      <td>9.0</td>\n",
       "      <td>14.0</td>\n",
       "      <td>yes</td>\n",
       "      <td>no</td>\n",
       "      <td>yes</td>\n",
       "      <td>yes</td>\n",
       "      <td>no</td>\n",
       "      <td>37.5</td>\n",
       "      <td>normal</td>\n",
       "      <td>no</td>\n",
       "    </tr>\n",
       "    <tr>\n",
       "      <th>781</th>\n",
       "      <td>appendicitis</td>\n",
       "      <td>appendicitis</td>\n",
       "      <td>2.0</td>\n",
       "      <td>8.0</td>\n",
       "      <td>yes</td>\n",
       "      <td>no</td>\n",
       "      <td>no</td>\n",
       "      <td>no</td>\n",
       "      <td>no</td>\n",
       "      <td>36.8</td>\n",
       "      <td>normal</td>\n",
       "      <td>no</td>\n",
       "    </tr>\n",
       "  </tbody>\n",
       "</table>\n",
       "<p>336 rows × 12 columns</p>\n",
       "</div>"
      ],
      "text/plain": [
       "    Diagnosis_Presumptive     Diagnosis  Alvarado_Score  Appendix_Diameter  \\\n",
       "0            appendicitis  appendicitis             4.0                7.1   \n",
       "4            appendicitis  appendicitis             5.0                7.0   \n",
       "9            appendicitis  appendicitis             4.0                8.0   \n",
       "10           appendicitis  appendicitis             8.0                9.0   \n",
       "14           appendicitis  appendicitis             8.0                9.0   \n",
       "..                    ...           ...             ...                ...   \n",
       "771          appendicitis  appendicitis             7.0               12.0   \n",
       "775          appendicitis  appendicitis             7.0               10.0   \n",
       "777          appendicitis  appendicitis             8.0                7.5   \n",
       "780          appendicitis  appendicitis             9.0               14.0   \n",
       "781          appendicitis  appendicitis             2.0                8.0   \n",
       "\n",
       "    Lower_Right_Abd_Pain Contralateral_Rebound_Tenderness Coughing_Pain  \\\n",
       "0                    yes                              yes            no   \n",
       "4                    yes                              yes           yes   \n",
       "9                    yes                               no            no   \n",
       "10                   yes                               no           yes   \n",
       "14                   yes                              yes           yes   \n",
       "..                   ...                              ...           ...   \n",
       "771                  yes                               no            no   \n",
       "775                  yes                               no            no   \n",
       "777                  yes                               no            no   \n",
       "780                  yes                               no           yes   \n",
       "781                  yes                               no            no   \n",
       "\n",
       "    Nausea Loss_of_Appetite  Body_Temperature         Stool Psoas_Sign  \n",
       "0       no              yes              37.0        normal        yes  \n",
       "4      yes              yes              36.9  constipation        yes  \n",
       "9      yes              yes              37.1        normal         no  \n",
       "10      no              yes              38.0        normal         no  \n",
       "14     yes              yes              36.5        normal         no  \n",
       "..     ...              ...               ...           ...        ...  \n",
       "771    yes               no              38.2  constipation         no  \n",
       "775    yes               no              38.2        normal         no  \n",
       "777     no              yes              39.4      diarrhea        yes  \n",
       "780    yes               no              37.5        normal         no  \n",
       "781     no               no              36.8        normal         no  \n",
       "\n",
       "[336 rows x 12 columns]"
      ]
     },
     "execution_count": 248,
     "metadata": {},
     "output_type": "execute_result"
    }
   ],
   "source": [
    "df_pos"
   ]
  },
  {
   "cell_type": "code",
   "execution_count": 250,
   "id": "5fb7c752-b72e-43c6-844b-c3ff17834566",
   "metadata": {},
   "outputs": [
    {
     "data": {
      "text/html": [
       "<div>\n",
       "<style scoped>\n",
       "    .dataframe tbody tr th:only-of-type {\n",
       "        vertical-align: middle;\n",
       "    }\n",
       "\n",
       "    .dataframe tbody tr th {\n",
       "        vertical-align: top;\n",
       "    }\n",
       "\n",
       "    .dataframe thead th {\n",
       "        text-align: right;\n",
       "    }\n",
       "</style>\n",
       "<table border=\"1\" class=\"dataframe\">\n",
       "  <thead>\n",
       "    <tr style=\"text-align: right;\">\n",
       "      <th></th>\n",
       "      <th>Diagnosis_Presumptive</th>\n",
       "      <th>Diagnosis</th>\n",
       "      <th>Alvarado_Score</th>\n",
       "      <th>Appendix_Diameter</th>\n",
       "      <th>Lower_Right_Abd_Pain</th>\n",
       "      <th>Contralateral_Rebound_Tenderness</th>\n",
       "      <th>Coughing_Pain</th>\n",
       "      <th>Nausea</th>\n",
       "      <th>Loss_of_Appetite</th>\n",
       "      <th>Body_Temperature</th>\n",
       "      <th>Stool</th>\n",
       "      <th>Psoas_Sign</th>\n",
       "    </tr>\n",
       "  </thead>\n",
       "  <tbody>\n",
       "    <tr>\n",
       "      <th>8</th>\n",
       "      <td>appendicitis</td>\n",
       "      <td>no appendicitis</td>\n",
       "      <td>7.0</td>\n",
       "      <td>3.7</td>\n",
       "      <td>yes</td>\n",
       "      <td>no</td>\n",
       "      <td>no</td>\n",
       "      <td>no</td>\n",
       "      <td>yes</td>\n",
       "      <td>37.3</td>\n",
       "      <td>normal</td>\n",
       "      <td>no</td>\n",
       "    </tr>\n",
       "    <tr>\n",
       "      <th>15</th>\n",
       "      <td>appendicitis</td>\n",
       "      <td>no appendicitis</td>\n",
       "      <td>3.0</td>\n",
       "      <td>9.0</td>\n",
       "      <td>yes</td>\n",
       "      <td>no</td>\n",
       "      <td>no</td>\n",
       "      <td>no</td>\n",
       "      <td>yes</td>\n",
       "      <td>36.2</td>\n",
       "      <td>diarrhea</td>\n",
       "      <td>no</td>\n",
       "    </tr>\n",
       "    <tr>\n",
       "      <th>19</th>\n",
       "      <td>appendicitis</td>\n",
       "      <td>no appendicitis</td>\n",
       "      <td>3.0</td>\n",
       "      <td>5.0</td>\n",
       "      <td>yes</td>\n",
       "      <td>no</td>\n",
       "      <td>no</td>\n",
       "      <td>no</td>\n",
       "      <td>no</td>\n",
       "      <td>36.3</td>\n",
       "      <td>normal</td>\n",
       "      <td>no</td>\n",
       "    </tr>\n",
       "    <tr>\n",
       "      <th>24</th>\n",
       "      <td>appendicitis</td>\n",
       "      <td>no appendicitis</td>\n",
       "      <td>2.0</td>\n",
       "      <td>7.0</td>\n",
       "      <td>yes</td>\n",
       "      <td>no</td>\n",
       "      <td>no</td>\n",
       "      <td>no</td>\n",
       "      <td>no</td>\n",
       "      <td>37.0</td>\n",
       "      <td>normal</td>\n",
       "      <td>no</td>\n",
       "    </tr>\n",
       "    <tr>\n",
       "      <th>27</th>\n",
       "      <td>appendicitis</td>\n",
       "      <td>no appendicitis</td>\n",
       "      <td>4.0</td>\n",
       "      <td>5.0</td>\n",
       "      <td>yes</td>\n",
       "      <td>no</td>\n",
       "      <td>yes</td>\n",
       "      <td>yes</td>\n",
       "      <td>yes</td>\n",
       "      <td>37.0</td>\n",
       "      <td>normal</td>\n",
       "      <td>no</td>\n",
       "    </tr>\n",
       "    <tr>\n",
       "      <th>...</th>\n",
       "      <td>...</td>\n",
       "      <td>...</td>\n",
       "      <td>...</td>\n",
       "      <td>...</td>\n",
       "      <td>...</td>\n",
       "      <td>...</td>\n",
       "      <td>...</td>\n",
       "      <td>...</td>\n",
       "      <td>...</td>\n",
       "      <td>...</td>\n",
       "      <td>...</td>\n",
       "      <td>...</td>\n",
       "    </tr>\n",
       "    <tr>\n",
       "      <th>448</th>\n",
       "      <td>no appendicitis</td>\n",
       "      <td>no appendicitis</td>\n",
       "      <td>2.0</td>\n",
       "      <td>7.2</td>\n",
       "      <td>yes</td>\n",
       "      <td>no</td>\n",
       "      <td>no</td>\n",
       "      <td>no</td>\n",
       "      <td>no</td>\n",
       "      <td>36.8</td>\n",
       "      <td>normal</td>\n",
       "      <td>no</td>\n",
       "    </tr>\n",
       "    <tr>\n",
       "      <th>449</th>\n",
       "      <td>appendicitis</td>\n",
       "      <td>no appendicitis</td>\n",
       "      <td>6.0</td>\n",
       "      <td>4.7</td>\n",
       "      <td>yes</td>\n",
       "      <td>yes</td>\n",
       "      <td>yes</td>\n",
       "      <td>yes</td>\n",
       "      <td>no</td>\n",
       "      <td>38.0</td>\n",
       "      <td>normal</td>\n",
       "      <td>no</td>\n",
       "    </tr>\n",
       "    <tr>\n",
       "      <th>452</th>\n",
       "      <td>appendicitis</td>\n",
       "      <td>no appendicitis</td>\n",
       "      <td>7.0</td>\n",
       "      <td>5.0</td>\n",
       "      <td>yes</td>\n",
       "      <td>no</td>\n",
       "      <td>no</td>\n",
       "      <td>yes</td>\n",
       "      <td>yes</td>\n",
       "      <td>36.3</td>\n",
       "      <td>normal</td>\n",
       "      <td>no</td>\n",
       "    </tr>\n",
       "    <tr>\n",
       "      <th>455</th>\n",
       "      <td>appendicitis</td>\n",
       "      <td>no appendicitis</td>\n",
       "      <td>3.0</td>\n",
       "      <td>6.7</td>\n",
       "      <td>yes</td>\n",
       "      <td>no</td>\n",
       "      <td>no</td>\n",
       "      <td>no</td>\n",
       "      <td>no</td>\n",
       "      <td>37.4</td>\n",
       "      <td>normal</td>\n",
       "      <td>no</td>\n",
       "    </tr>\n",
       "    <tr>\n",
       "      <th>458</th>\n",
       "      <td>appendicitis</td>\n",
       "      <td>no appendicitis</td>\n",
       "      <td>3.0</td>\n",
       "      <td>6.7</td>\n",
       "      <td>yes</td>\n",
       "      <td>no</td>\n",
       "      <td>no</td>\n",
       "      <td>no</td>\n",
       "      <td>yes</td>\n",
       "      <td>36.0</td>\n",
       "      <td>diarrhea</td>\n",
       "      <td>no</td>\n",
       "    </tr>\n",
       "  </tbody>\n",
       "</table>\n",
       "<p>120 rows × 12 columns</p>\n",
       "</div>"
      ],
      "text/plain": [
       "    Diagnosis_Presumptive        Diagnosis  Alvarado_Score  Appendix_Diameter  \\\n",
       "8            appendicitis  no appendicitis             7.0                3.7   \n",
       "15           appendicitis  no appendicitis             3.0                9.0   \n",
       "19           appendicitis  no appendicitis             3.0                5.0   \n",
       "24           appendicitis  no appendicitis             2.0                7.0   \n",
       "27           appendicitis  no appendicitis             4.0                5.0   \n",
       "..                    ...              ...             ...                ...   \n",
       "448       no appendicitis  no appendicitis             2.0                7.2   \n",
       "449          appendicitis  no appendicitis             6.0                4.7   \n",
       "452          appendicitis  no appendicitis             7.0                5.0   \n",
       "455          appendicitis  no appendicitis             3.0                6.7   \n",
       "458          appendicitis  no appendicitis             3.0                6.7   \n",
       "\n",
       "    Lower_Right_Abd_Pain Contralateral_Rebound_Tenderness Coughing_Pain  \\\n",
       "8                    yes                               no            no   \n",
       "15                   yes                               no            no   \n",
       "19                   yes                               no            no   \n",
       "24                   yes                               no            no   \n",
       "27                   yes                               no           yes   \n",
       "..                   ...                              ...           ...   \n",
       "448                  yes                               no            no   \n",
       "449                  yes                              yes           yes   \n",
       "452                  yes                               no            no   \n",
       "455                  yes                               no            no   \n",
       "458                  yes                               no            no   \n",
       "\n",
       "    Nausea Loss_of_Appetite  Body_Temperature     Stool Psoas_Sign  \n",
       "8       no              yes              37.3    normal         no  \n",
       "15      no              yes              36.2  diarrhea         no  \n",
       "19      no               no              36.3    normal         no  \n",
       "24      no               no              37.0    normal         no  \n",
       "27     yes              yes              37.0    normal         no  \n",
       "..     ...              ...               ...       ...        ...  \n",
       "448     no               no              36.8    normal         no  \n",
       "449    yes               no              38.0    normal         no  \n",
       "452    yes              yes              36.3    normal         no  \n",
       "455     no               no              37.4    normal         no  \n",
       "458     no              yes              36.0  diarrhea         no  \n",
       "\n",
       "[120 rows x 12 columns]"
      ]
     },
     "execution_count": 250,
     "metadata": {},
     "output_type": "execute_result"
    }
   ],
   "source": [
    "df_neg"
   ]
  },
  {
   "cell_type": "code",
   "execution_count": 295,
   "id": "cfb1cf78-96cf-4805-8958-c511a146ba95",
   "metadata": {},
   "outputs": [
    {
     "data": {
      "text/plain": [
       "10.0"
      ]
     },
     "execution_count": 295,
     "metadata": {},
     "output_type": "execute_result"
    }
   ],
   "source": [
    "df_pos['Alvarado_Score'].max()"
   ]
  },
  {
   "cell_type": "code",
   "execution_count": 297,
   "id": "347a79f1-b304-4b96-8a91-8110faadcae3",
   "metadata": {},
   "outputs": [
    {
     "data": {
      "text/plain": [
       "2.0"
      ]
     },
     "execution_count": 297,
     "metadata": {},
     "output_type": "execute_result"
    }
   ],
   "source": [
    "df_pos['Alvarado_Score'].min()"
   ]
  },
  {
   "cell_type": "code",
   "execution_count": 299,
   "id": "b64da544-a730-464b-9055-b0413ec770c9",
   "metadata": {},
   "outputs": [
    {
     "data": {
      "text/plain": [
       "17.0"
      ]
     },
     "execution_count": 299,
     "metadata": {},
     "output_type": "execute_result"
    }
   ],
   "source": [
    "df_pos['Appendix_Diameter'].max()"
   ]
  },
  {
   "cell_type": "code",
   "execution_count": 301,
   "id": "2809dd4d-5087-41ef-8553-459ce633e45d",
   "metadata": {},
   "outputs": [
    {
     "data": {
      "text/plain": [
       "4.4"
      ]
     },
     "execution_count": 301,
     "metadata": {},
     "output_type": "execute_result"
    }
   ],
   "source": [
    "df_pos['Appendix_Diameter'].min()"
   ]
  },
  {
   "cell_type": "code",
   "execution_count": 303,
   "id": "f059dcc5-6327-4535-b1b0-2930325e6d91",
   "metadata": {},
   "outputs": [
    {
     "data": {
      "text/plain": [
       "40.2"
      ]
     },
     "execution_count": 303,
     "metadata": {},
     "output_type": "execute_result"
    }
   ],
   "source": [
    "df_pos['Body_Temperature'].max()"
   ]
  },
  {
   "cell_type": "code",
   "execution_count": 305,
   "id": "201dbef8-d55b-4366-a124-b02b56215a6d",
   "metadata": {},
   "outputs": [
    {
     "data": {
      "text/plain": [
       "35.8"
      ]
     },
     "execution_count": 305,
     "metadata": {},
     "output_type": "execute_result"
    }
   ],
   "source": [
    "df_pos['Body_Temperature'].min()"
   ]
  },
  {
   "cell_type": "code",
   "execution_count": 307,
   "id": "746f7132-9ac0-42ec-8921-81b9fb0ea356",
   "metadata": {},
   "outputs": [
    {
     "data": {
      "text/plain": [
       "9.0"
      ]
     },
     "execution_count": 307,
     "metadata": {},
     "output_type": "execute_result"
    }
   ],
   "source": [
    "df_neg['Alvarado_Score'].max()"
   ]
  },
  {
   "cell_type": "code",
   "execution_count": 313,
   "id": "093ef07a-fa2a-4e1c-a162-03126c219e8c",
   "metadata": {},
   "outputs": [
    {
     "data": {
      "text/plain": [
       "0.0"
      ]
     },
     "execution_count": 313,
     "metadata": {},
     "output_type": "execute_result"
    }
   ],
   "source": [
    "df_neg['Alvarado_Score'].min()"
   ]
  },
  {
   "cell_type": "code",
   "execution_count": 317,
   "id": "279f7f59-4b86-4cf7-84f8-655cddeaecbf",
   "metadata": {},
   "outputs": [
    {
     "data": {
      "text/plain": [
       "9.5"
      ]
     },
     "execution_count": 317,
     "metadata": {},
     "output_type": "execute_result"
    }
   ],
   "source": [
    "df_neg['Appendix_Diameter'].max()"
   ]
  },
  {
   "cell_type": "code",
   "execution_count": 319,
   "id": "b078295d-38b8-44e6-a773-9dbb6a62259e",
   "metadata": {},
   "outputs": [
    {
     "data": {
      "text/plain": [
       "2.7"
      ]
     },
     "execution_count": 319,
     "metadata": {},
     "output_type": "execute_result"
    }
   ],
   "source": [
    "df_neg['Appendix_Diameter'].min()"
   ]
  },
  {
   "cell_type": "code",
   "execution_count": 321,
   "id": "aaf8f710-c4be-4d2c-a1fc-92a74138ed45",
   "metadata": {},
   "outputs": [
    {
     "data": {
      "text/plain": [
       "39.9"
      ]
     },
     "execution_count": 321,
     "metadata": {},
     "output_type": "execute_result"
    }
   ],
   "source": [
    "df_neg['Body_Temperature'].max()"
   ]
  },
  {
   "cell_type": "code",
   "execution_count": 323,
   "id": "fe5575e4-ac9b-4ede-a428-1306446396cc",
   "metadata": {},
   "outputs": [
    {
     "data": {
      "text/plain": [
       "36.0"
      ]
     },
     "execution_count": 323,
     "metadata": {},
     "output_type": "execute_result"
    }
   ],
   "source": [
    "df_neg['Body_Temperature'].min()"
   ]
  },
  {
   "cell_type": "code",
   "execution_count": 252,
   "id": "1b57c648-dd05-450d-9be6-056f0a9e5106",
   "metadata": {},
   "outputs": [
    {
     "name": "stdout",
     "output_type": "stream",
     "text": [
      "6.556547619047619\n"
     ]
    }
   ],
   "source": [
    "print(df_pos['Alvarado_Score'].mean())"
   ]
  },
  {
   "cell_type": "code",
   "execution_count": 254,
   "id": "19d45a1d-9fb7-46f1-a289-5d57c852ec7f",
   "metadata": {},
   "outputs": [
    {
     "name": "stdout",
     "output_type": "stream",
     "text": [
      "4.383333333333334\n"
     ]
    }
   ],
   "source": [
    "print(df_neg['Alvarado_Score'].mean())"
   ]
  },
  {
   "cell_type": "code",
   "execution_count": 256,
   "id": "ec9cd9a1-4e73-4006-a123-cb3b5221523b",
   "metadata": {},
   "outputs": [
    {
     "name": "stdout",
     "output_type": "stream",
     "text": [
      "8.592559523809525\n"
     ]
    }
   ],
   "source": [
    "print(df_pos['Appendix_Diameter'].mean())"
   ]
  },
  {
   "cell_type": "code",
   "execution_count": 258,
   "id": "fa293163-1984-42ff-a80d-6f265f02aa93",
   "metadata": {},
   "outputs": [
    {
     "name": "stdout",
     "output_type": "stream",
     "text": [
      "5.060833333333333\n"
     ]
    }
   ],
   "source": [
    "print(df_neg['Appendix_Diameter'].mean())"
   ]
  },
  {
   "cell_type": "code",
   "execution_count": 260,
   "id": "9b7b86b9-1ef2-47ec-a1fb-5b9ffa5c7489",
   "metadata": {},
   "outputs": [
    {
     "name": "stdout",
     "output_type": "stream",
     "text": [
      "37.38392857142857\n"
     ]
    }
   ],
   "source": [
    "print(df_pos['Body_Temperature'].mean())"
   ]
  },
  {
   "cell_type": "code",
   "execution_count": 262,
   "id": "b6eb8ece-c39b-4734-873a-8d03b3da7d69",
   "metadata": {},
   "outputs": [
    {
     "name": "stdout",
     "output_type": "stream",
     "text": [
      "37.139166666666675\n"
     ]
    }
   ],
   "source": [
    "print(df_neg['Body_Temperature'].mean())"
   ]
  },
  {
   "cell_type": "code",
   "execution_count": 264,
   "id": "f48c199e-08ff-40b8-bc25-88ebe8c2d2f2",
   "metadata": {},
   "outputs": [
    {
     "data": {
      "text/plain": [
       "(91, 12)"
      ]
     },
     "execution_count": 264,
     "metadata": {},
     "output_type": "execute_result"
    }
   ],
   "source": [
    "df.loc[(df['Diagnosis_Presumptive'] == 'appendicitis') & (df['Diagnosis'] != 'appendicitis')].shape"
   ]
  },
  {
   "cell_type": "code",
   "execution_count": 273,
   "id": "042d2b08-5fde-4238-997c-1538cc2f5510",
   "metadata": {},
   "outputs": [
    {
     "data": {
      "text/plain": [
       "0.2708333333333333"
      ]
     },
     "execution_count": 273,
     "metadata": {},
     "output_type": "execute_result"
    }
   ],
   "source": [
    "df.loc[(df['Diagnosis_Presumptive'] == 'appendicitis') & (df['Diagnosis'] != 'appendicitis')].shape[0]/df_pos.shape[0]"
   ]
  },
  {
   "cell_type": "code",
   "execution_count": 266,
   "id": "d7d6e89c-703b-499e-af88-5969b8b584d0",
   "metadata": {},
   "outputs": [
    {
     "data": {
      "text/plain": [
       "(3, 12)"
      ]
     },
     "execution_count": 266,
     "metadata": {},
     "output_type": "execute_result"
    }
   ],
   "source": [
    "df.loc[(df['Diagnosis_Presumptive'] != 'appendicitis') & (df['Diagnosis'] == 'appendicitis')].shape"
   ]
  },
  {
   "cell_type": "code",
   "execution_count": 279,
   "id": "6ba01ba2-a308-4498-8bdd-84218250cf23",
   "metadata": {},
   "outputs": [
    {
     "data": {
      "text/plain": [
       "0.025"
      ]
     },
     "execution_count": 279,
     "metadata": {},
     "output_type": "execute_result"
    }
   ],
   "source": [
    "df.loc[(df['Diagnosis_Presumptive'] != 'appendicitis') & (df['Diagnosis'] == 'appendicitis')].shape[0]/df_neg.shape[0]"
   ]
  },
  {
   "cell_type": "code",
   "execution_count": 268,
   "id": "bbc19be3-ad05-4c20-b7c7-d44961b63abc",
   "metadata": {},
   "outputs": [
    {
     "data": {
      "image/png": "[encoded data removed]",
      "text/plain": [
       "<Figure size 1000x500 with 1 Axes>"
      ]
     },
     "metadata": {},
     "output_type": "display_data"
    }
   ],
   "source": [
    "binary_features = ['Lower_Right_Abd_Pain', 'Contralateral_Rebound_Tenderness', 'Coughing_Pain', 'Nausea', 'Loss_of_Appetite', 'Psoas_Sign']\n",
    "\n",
    "df_clean = df.copy()\n",
    "df_clean[binary_features] = df_clean[binary_features].replace({'yes': 1, 'no': 0})\n",
    "df_clean[binary_features] = df_clean[binary_features].astype(float)\n",
    "\n",
    "group1 = df_clean[df_clean['Diagnosis'] == 'appendicitis']\n",
    "group2 = df_clean[df_clean['Diagnosis'] == 'no appendicitis']\n",
    "\n",
    "group1_counts = group1[binary_features].sum()\n",
    "group2_counts = group2[binary_features].sum()\n",
    "\n",
    "x = np.arange(len(binary_features))\n",
    "width = 0.35\n",
    "\n",
    "fig, ax = plt.subplots(figsize=(10, 5))\n",
    "ax.bar(x - width/2, means1, width, label='Appendicitis')\n",
    "ax.bar(x + width/2, means2, width, label='No Appendicitis')\n",
    "\n",
    "ax.set_ylabel('Count of Patients with Symptom')\n",
    "ax.set_title('Comparison of Binary Symptoms by Diagnosis')\n",
    "ax.set_xticks(x)\n",
    "ax.set_xticklabels(binary_features, rotation=45, ha='right')\n",
    "ax.legend()\n",
    "\n",
    "for i in range(len(binary_features)):\n",
    "    ax.text(x[i] - width/2, group1_counts[i] + 1, int(group1_counts[i]), ha='center')\n",
    "    ax.text(x[i] + width/2, group2_counts[i] + 1, int(group2_counts[i]), ha='center')\n",
    "\n",
    "plt.tight_layout()\n",
    "plt.show()"
   ]
  },
  {
   "cell_type": "code",
   "execution_count": 270,
   "id": "f5fb0189-808a-49fd-85f9-594dbe919211",
   "metadata": {},
   "outputs": [
    {
     "data": {
      "image/png": "[encoded data removed]",
      "text/plain": [
       "<Figure size 800x500 with 1 Axes>"
      ]
     },
     "metadata": {},
     "output_type": "display_data"
    }
   ],
   "source": [
    "numeric_features = ['Alvarado_Score', 'Appendix_Diameter', 'Body_Temperature']\n",
    "\n",
    "group1_means = group1[numeric_features].mean()\n",
    "group2_means = group2[numeric_features].mean()\n",
    "\n",
    "x = np.arange(len(numeric_features))\n",
    "width = 0.35\n",
    "\n",
    "fig, ax = plt.subplots(figsize=(8, 5))\n",
    "ax.bar(x - width/2, group1_means, width, label='Appendicitis')\n",
    "ax.bar(x + width/2, group2_means, width, label='No Appendicitis')\n",
    "\n",
    "ax.set_ylabel('Mean Value')\n",
    "ax.set_title('Mean of Numeric Features by Diagnosis')\n",
    "ax.set_xticks(x)\n",
    "ax.set_xticklabels([f.replace('_', ' ').title() for f in numeric_features], rotation=45, ha='right')\n",
    "ax.legend()\n",
    "\n",
    "for i in range(len(numeric_features)):\n",
    "    ax.text(x[i] - width/2, group1_means[i] + 0.1, f'{group1_means[i]:.2f}', ha='center')\n",
    "    ax.text(x[i] + width/2, group2_means[i] + 0.1, f'{group2_means[i]:.2f}', ha='center')\n",
    "\n",
    "plt.tight_layout()\n",
    "plt.show()"
   ]
  }
 ],
 "metadata": {
  "kernelspec": {
   "display_name": "Python [conda env:base] *",
   "language": "python",
   "name": "conda-base-py"
  },
  "language_info": {
   "codemirror_mode": {
    "name": "ipython",
    "version": 3
   },
   "file_extension": ".py",
   "mimetype": "text/x-python",
   "name": "python",
   "nbconvert_exporter": "python",
   "pygments_lexer": "ipython3",
   "version": "3.12.7"
  }
 },
 "nbformat": 4,
 "nbformat_minor": 5
}
